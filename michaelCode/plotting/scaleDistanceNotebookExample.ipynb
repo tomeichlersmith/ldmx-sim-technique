{
 "cells": [
  {
   "cell_type": "markdown",
   "id": "4e69a83e",
   "metadata": {},
   "source": [
    "Four different scaling points are available for three different materials with both electrons and muons. The rescaled files are named after the energy of the lhe files they start from. The madgraph files are converted directly from lhe to root, while the scaled ones are the output of calling simulateEmission in the standalone simulation. The Madgraph files and the rescaled ones have different branch names, so there are is a different extraction function for each. Other than the naming, there is no difference between the two."
   ]
  },
  {
   "cell_type": "code",
   "execution_count": 1,
   "id": "ae3d2673-1b3a-4047-bbab-c514784b85fc",
   "metadata": {},
   "outputs": [],
   "source": [
    "repository = \"/local/cms/user/revering/dphoton/ldmx-sim-technique/michaelCode/plotting/repository/\"\n",
    "elWInputFiles=[\n",
    "    \"el_W_2p2to2.root\",\n",
    "    \"el_W_2p5to2.root\",\n",
    "    \"el_W_3to2.root\",\n",
    "    \"el_W_4to2.root\"]\n",
    "elCuInputFiles=[\n",
    "    \"el_Cu_2p2to2.root\",\n",
    "    \"el_Cu_2p5to2.root\",\n",
    "    \"el_Cu_3to2.root\",\n",
    "    \"el_Cu_4to2.root\"]\n",
    "elSiInputFiles=[\n",
    "    \"el_Si_2p2to2.root\",\n",
    "    \"el_Si_2p5to2.root\",\n",
    "    \"el_Si_3to2.root\",\n",
    "    \"el_Si_4to2.root\"]\n",
    "muPbInputFiles=[\n",
    "    \"mu_Pb_111to100.root\",\n",
    "    \"mu_Pb_125to100.root\",\n",
    "    \"mu_Pb_150to100.root\",\n",
    "    \"mu_Pb_200to100.root\"]\n",
    "muCuInputFiles=[\n",
    "    \"mu_Cu_111to100.root\",\n",
    "    \"mu_Cu_125to100.root\",\n",
    "    \"mu_Cu_150to100.root\",\n",
    "    \"mu_Cu_200to100.root\"]\n",
    "muSiInputFiles=[\n",
    "    \"mu_Si_111to100.root\",\n",
    "    \"mu_Si_125to100.root\",\n",
    "    \"mu_Si_150to100.root\",\n",
    "    \"mu_Si_200to100.root\"]\n",
    "elWBaseMg=\"el_W_mA0p1_ebeam2p0.root\"\n",
    "elCuBaseMg=\"el_Cu_mA0p1_ebeam2p0.root\"\n",
    "elSiBaseMg=\"el_Si_mA0p1_ebeam2p0.root\"\n",
    "muPbBaseMg=\"mu_Pb_mA1p0_ebeam100.root\"\n",
    "muCuBaseMg=\"mu_Cu_mA1p0_ebeam100.root\"\n",
    "muSiBaseMg=\"mu_Si_mA1p0_ebeam100.root\""
   ]
  },
  {
   "cell_type": "markdown",
   "id": "c6941bdb",
   "metadata": {},
   "source": [
    "The standalone python script takes in the root filename, then extracts it into a pandas dataframe. The dataframe has one entry for 'Energy' and another for 'Angle'. The energy is the total energy of the outgoing lepton, while the angle is the scattering angle of the lepton with respect to the beam trajectory."
   ]
  },
  {
   "cell_type": "code",
   "execution_count": 2,
   "id": "85e43e9b",
   "metadata": {},
   "outputs": [],
   "source": [
    "import dphoton_root_extractor as ex\n",
    "import numpy\n",
    "exampleMadgraphData=ex.extractMadgraphData(repository+elWBaseMg)\n",
    "exampleRescaledData=ex.extractRescaledData(repository+muPbInputFiles[0])"
   ]
  },
  {
   "cell_type": "code",
   "execution_count": 3,
   "id": "572be4a3",
   "metadata": {},
   "outputs": [
    {
     "name": "stdout",
     "output_type": "stream",
     "text": [
      "           Energy     Angle\n",
      "0        0.061349  0.216202\n",
      "1        0.489695  0.047036\n",
      "2        0.009951  0.103186\n",
      "3        0.156042  0.086039\n",
      "4        0.088110  0.034325\n",
      "...           ...       ...\n",
      "1937760  0.035608  0.224554\n",
      "1937761  0.001120  1.184962\n",
      "1937762  0.269555  0.047684\n",
      "1937763  0.073370  0.171569\n",
      "1937764  0.035026  0.357387\n",
      "\n",
      "[1937765 rows x 2 columns]\n",
      "           Energy     Angle\n",
      "0       14.695778  0.012924\n",
      "1       72.033751  0.005711\n",
      "2       14.462453  0.026306\n",
      "3       18.527575  0.003311\n",
      "4        1.461712  0.097043\n",
      "...           ...       ...\n",
      "999995   4.114848  0.027217\n",
      "999996   4.995760  0.009195\n",
      "999997   1.189329  0.023531\n",
      "999998   4.301545  0.054794\n",
      "999999  47.996470  0.002909\n",
      "\n",
      "[1000000 rows x 2 columns]\n"
     ]
    }
   ],
   "source": [
    "print(exampleMadgraphData)\n",
    "print(exampleRescaledData)"
   ]
  },
  {
   "cell_type": "code",
   "execution_count": null,
   "id": "c63e47e4",
   "metadata": {},
   "outputs": [],
   "source": []
  }
 ],
 "metadata": {
  "kernelspec": {
   "display_name": "Python 3",
   "language": "python",
   "name": "python3"
  },
  "language_info": {
   "codemirror_mode": {
    "name": "ipython",
    "version": 3
   },
   "file_extension": ".py",
   "mimetype": "text/x-python",
   "name": "python",
   "nbconvert_exporter": "python",
   "pygments_lexer": "ipython3",
   "version": "3.6.8"
  }
 },
 "nbformat": 4,
 "nbformat_minor": 5
}
