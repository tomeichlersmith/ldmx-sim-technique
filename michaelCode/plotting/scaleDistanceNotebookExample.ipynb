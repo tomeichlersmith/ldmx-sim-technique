{
 "cells": [
  {
   "cell_type": "markdown",
   "id": "193e2914",
   "metadata": {},
   "source": [
    "Four different scaling points are available for three different materials with both electrons and muons. The rescaled files are named after the energy of the lhe files they start from. The madgraph files are converted directly from lhe to root, while the scaled ones are the output of calling simulateEmission in the standalone simulation. The Madgraph files and the rescaled ones have different branch names, so there are is a different extraction function for each. Other than the naming, there is no difference between the two."
   ]
  },
  {
   "cell_type": "code",
   "execution_count": 1,
   "id": "ae3d2673-1b3a-4047-bbab-c514784b85fc",
   "metadata": {},
   "outputs": [],
   "source": [
    "repository = \"/local/cms/user/revering/dphoton/ldmx-sim-technique/michaelCode/plotting/repository/\"\n",
    "elWInputFiles=[\n",
    "    \"el_W_2p2to2.root\",\n",
    "    \"el_W_2p5to2.root\",\n",
    "    \"el_W_3to2.root\",\n",
    "    \"el_W_4to2.root\"]\n",
    "elCuInputFiles=[\n",
    "    \"el_Cu_2p2to2.root\",\n",
    "    \"el_Cu_2p5to2.root\",\n",
    "    \"el_Cu_3to2.root\",\n",
    "    \"el_Cu_4to2.root\"]\n",
    "elSiInputFiles=[\n",
    "    \"el_Si_2p2to2.root\",\n",
    "    \"el_Si_2p5to2.root\",\n",
    "    \"el_Si_3to2.root\",\n",
    "    \"el_Si_4to2.root\"]\n",
    "muPbInputFiles=[\n",
    "    \"mu_Pb_111to100.root\",\n",
    "    \"mu_Pb_125to100.root\",\n",
    "    \"mu_Pb_150to100.root\",\n",
    "    \"mu_Pb_200to100.root\"]\n",
    "muCuInputFiles=[\n",
    "    \"mu_Cu_111to100.root\",\n",
    "    \"mu_Cu_125to100.root\",\n",
    "    \"mu_Cu_150to100.root\",\n",
    "    \"mu_Cu_200to100.root\"]\n",
    "muSiInputFiles=[\n",
    "    \"mu_Si_111to100.root\",\n",
    "    \"mu_Si_125to100.root\",\n",
    "    \"mu_Si_150to100.root\",\n",
    "    \"mu_Si_200to100.root\"]\n",
    "elWBaseMg=\"el_W_mA0p1_ebeam2p0.root\"\n",
    "elCuBaseMg=\"el_Cu_mA0p1_ebeam2p0.root\"\n",
    "elSiBaseMg=\"el_Si_mA0p1_ebeam2p0.root\"\n",
    "muPbBaseMg=\"mu_Pb_mA1p0_ebeam100.root\"\n",
    "muCuBaseMg=\"mu_Cu_mA1p0_ebeam100.root\"\n",
    "muSiBaseMg=\"mu_Si_mA1p0_ebeam100.root\""
   ]
  },
  {
   "cell_type": "markdown",
   "id": "4de293f5",
   "metadata": {},
   "source": [
    "The standalone python script takes in the root filename, then extracts it into a pandas dataframe. The dataframe has one entry for 'Energy' and another for 'Angle'. The energy is the total energy of the outgoing lepton, while the angle is the scattering angle of the lepton with respect to the beam trajectory."
   ]
  },
  {
   "cell_type": "code",
   "execution_count": 3,
   "id": "cd0da075",
   "metadata": {},
   "outputs": [
    {
     "ename": "KeyInFileError",
     "evalue": "not found: 'forward_events' (with any cycle number)\n\n    Available keys: 'ForwardEvents;2', 'forward_only;1', 'cm_scaling;1'\n\nin file /local/cms/user/revering/dphoton/ldmx-sim-technique/michaelCode/plotting/repository/mu_Pb_111to100.root",
     "output_type": "error",
     "traceback": [
      "\u001b[0;31m---------------------------------------------------------------------------\u001b[0m",
      "\u001b[0;31mKeyInFileError\u001b[0m                            Traceback (most recent call last)",
      "\u001b[0;32m<ipython-input-3-104ccd445578>\u001b[0m in \u001b[0;36m<module>\u001b[0;34m\u001b[0m\n\u001b[1;32m      2\u001b[0m \u001b[0;32mimport\u001b[0m \u001b[0mnumpy\u001b[0m\u001b[0;34m\u001b[0m\u001b[0;34m\u001b[0m\u001b[0m\n\u001b[1;32m      3\u001b[0m \u001b[0mexampleMadgraphData\u001b[0m\u001b[0;34m=\u001b[0m\u001b[0mex\u001b[0m\u001b[0;34m.\u001b[0m\u001b[0mextractMadgraphData\u001b[0m\u001b[0;34m(\u001b[0m\u001b[0mrepository\u001b[0m\u001b[0;34m+\u001b[0m\u001b[0melWBaseMg\u001b[0m\u001b[0;34m)\u001b[0m\u001b[0;34m\u001b[0m\u001b[0;34m\u001b[0m\u001b[0m\n\u001b[0;32m----> 4\u001b[0;31m \u001b[0mexampleRescaledData\u001b[0m\u001b[0;34m=\u001b[0m\u001b[0mex\u001b[0m\u001b[0;34m.\u001b[0m\u001b[0mextractRescaledData\u001b[0m\u001b[0;34m(\u001b[0m\u001b[0mrepository\u001b[0m\u001b[0;34m+\u001b[0m\u001b[0mmuPbInputFiles\u001b[0m\u001b[0;34m[\u001b[0m\u001b[0;36m0\u001b[0m\u001b[0;34m]\u001b[0m\u001b[0;34m)\u001b[0m\u001b[0;34m\u001b[0m\u001b[0;34m\u001b[0m\u001b[0m\n\u001b[0m",
      "\u001b[0;32m/data/cmszfs1/user/revering/dphoton/ldmx-sim-technique/michaelCode/plotting/dphoton_root_extractor.py\u001b[0m in \u001b[0;36mextractRescaledData\u001b[0;34m(rootfile)\u001b[0m\n\u001b[1;32m     19\u001b[0m \u001b[0;34m\u001b[0m\u001b[0m\n\u001b[1;32m     20\u001b[0m \u001b[0;32mdef\u001b[0m \u001b[0mextractRescaledData\u001b[0m\u001b[0;34m(\u001b[0m\u001b[0mrootfile\u001b[0m\u001b[0;34m)\u001b[0m\u001b[0;34m:\u001b[0m\u001b[0;34m\u001b[0m\u001b[0;34m\u001b[0m\u001b[0m\n\u001b[0;32m---> 21\u001b[0;31m     \u001b[0;32mreturn\u001b[0m \u001b[0mextractData\u001b[0m\u001b[0;34m(\u001b[0m\u001b[0mrootfile\u001b[0m\u001b[0;34m,\u001b[0m \u001b[0;34m\"forward_events\"\u001b[0m\u001b[0;34m)\u001b[0m\u001b[0;34m\u001b[0m\u001b[0;34m\u001b[0m\u001b[0m\n\u001b[0m\u001b[1;32m     22\u001b[0m \u001b[0;34m\u001b[0m\u001b[0m\n\u001b[1;32m     23\u001b[0m \u001b[0;32mdef\u001b[0m \u001b[0mextractMadgraphData\u001b[0m\u001b[0;34m(\u001b[0m\u001b[0mrootfile\u001b[0m\u001b[0;34m)\u001b[0m\u001b[0;34m:\u001b[0m\u001b[0;34m\u001b[0m\u001b[0;34m\u001b[0m\u001b[0m\n",
      "\u001b[0;32m/data/cmszfs1/user/revering/dphoton/ldmx-sim-technique/michaelCode/plotting/dphoton_root_extractor.py\u001b[0m in \u001b[0;36mextractData\u001b[0;34m(rootfile, treeName)\u001b[0m\n\u001b[1;32m      5\u001b[0m \u001b[0;32mdef\u001b[0m \u001b[0mextractData\u001b[0m\u001b[0;34m(\u001b[0m\u001b[0mrootfile\u001b[0m\u001b[0;34m,\u001b[0m \u001b[0mtreeName\u001b[0m\u001b[0;34m)\u001b[0m\u001b[0;34m:\u001b[0m\u001b[0;34m\u001b[0m\u001b[0;34m\u001b[0m\u001b[0m\n\u001b[1;32m      6\u001b[0m     \u001b[0minputFile\u001b[0m\u001b[0;34m=\u001b[0m\u001b[0muproot\u001b[0m\u001b[0;34m.\u001b[0m\u001b[0mopen\u001b[0m\u001b[0;34m(\u001b[0m\u001b[0mrootfile\u001b[0m\u001b[0;34m)\u001b[0m\u001b[0;34m\u001b[0m\u001b[0;34m\u001b[0m\u001b[0m\n\u001b[0;32m----> 7\u001b[0;31m     \u001b[0mevents\u001b[0m \u001b[0;34m=\u001b[0m \u001b[0minputFile\u001b[0m\u001b[0;34m[\u001b[0m\u001b[0mtreeName\u001b[0m\u001b[0;34m]\u001b[0m\u001b[0;34m\u001b[0m\u001b[0;34m\u001b[0m\u001b[0m\n\u001b[0m\u001b[1;32m      8\u001b[0m     \u001b[0mdataArray\u001b[0m \u001b[0;34m=\u001b[0m \u001b[0mevents\u001b[0m\u001b[0;34m.\u001b[0m\u001b[0marrays\u001b[0m\u001b[0;34m(\u001b[0m\u001b[0;34m\"IncidentParticle\"\u001b[0m\u001b[0;34m,\u001b[0m\u001b[0mlibrary\u001b[0m\u001b[0;34m=\u001b[0m\u001b[0;34m\"pd\"\u001b[0m\u001b[0;34m)\u001b[0m\u001b[0;34m\u001b[0m\u001b[0;34m\u001b[0m\u001b[0m\n\u001b[1;32m      9\u001b[0m     \u001b[0mx\u001b[0m\u001b[0;34m=\u001b[0m\u001b[0mdataArray\u001b[0m\u001b[0;34m[\u001b[0m\u001b[0;34m'IncidentParticle'\u001b[0m\u001b[0;34m]\u001b[0m\u001b[0;34m[\u001b[0m\u001b[0;34m'fP'\u001b[0m\u001b[0;34m]\u001b[0m\u001b[0;34m[\u001b[0m\u001b[0;34m'fX'\u001b[0m\u001b[0;34m]\u001b[0m\u001b[0;34m\u001b[0m\u001b[0;34m\u001b[0m\u001b[0m\n",
      "\u001b[0;32m~/.local/lib/python3.6/site-packages/uproot/reading.py\u001b[0m in \u001b[0;36m__getitem__\u001b[0;34m(self, where)\u001b[0m\n\u001b[1;32m   2094\u001b[0m \u001b[0;34m\u001b[0m\u001b[0m\n\u001b[1;32m   2095\u001b[0m         \u001b[0;32melse\u001b[0m\u001b[0;34m:\u001b[0m\u001b[0;34m\u001b[0m\u001b[0;34m\u001b[0m\u001b[0m\n\u001b[0;32m-> 2096\u001b[0;31m             \u001b[0;32mreturn\u001b[0m \u001b[0mself\u001b[0m\u001b[0;34m.\u001b[0m\u001b[0mkey\u001b[0m\u001b[0;34m(\u001b[0m\u001b[0mwhere\u001b[0m\u001b[0;34m)\u001b[0m\u001b[0;34m.\u001b[0m\u001b[0mget\u001b[0m\u001b[0;34m(\u001b[0m\u001b[0;34m)\u001b[0m\u001b[0;34m\u001b[0m\u001b[0;34m\u001b[0m\u001b[0m\n\u001b[0m\u001b[1;32m   2097\u001b[0m \u001b[0;34m\u001b[0m\u001b[0m\n\u001b[1;32m   2098\u001b[0m     \u001b[0;34m@\u001b[0m\u001b[0mproperty\u001b[0m\u001b[0;34m\u001b[0m\u001b[0;34m\u001b[0m\u001b[0m\n",
      "\u001b[0;32m~/.local/lib/python3.6/site-packages/uproot/reading.py\u001b[0m in \u001b[0;36mkey\u001b[0;34m(self, where)\u001b[0m\n\u001b[1;32m   2045\u001b[0m         \u001b[0;32melif\u001b[0m \u001b[0mcycle\u001b[0m \u001b[0;32mis\u001b[0m \u001b[0;32mNone\u001b[0m\u001b[0;34m:\u001b[0m\u001b[0;34m\u001b[0m\u001b[0;34m\u001b[0m\u001b[0m\n\u001b[1;32m   2046\u001b[0m             raise uproot.KeyInFileError(\n\u001b[0;32m-> 2047\u001b[0;31m                 \u001b[0mitem\u001b[0m\u001b[0;34m,\u001b[0m \u001b[0mcycle\u001b[0m\u001b[0;34m=\u001b[0m\u001b[0;34m\"any\"\u001b[0m\u001b[0;34m,\u001b[0m \u001b[0mkeys\u001b[0m\u001b[0;34m=\u001b[0m\u001b[0mself\u001b[0m\u001b[0;34m.\u001b[0m\u001b[0mkeys\u001b[0m\u001b[0;34m(\u001b[0m\u001b[0;34m)\u001b[0m\u001b[0;34m,\u001b[0m \u001b[0mfile_path\u001b[0m\u001b[0;34m=\u001b[0m\u001b[0mself\u001b[0m\u001b[0;34m.\u001b[0m\u001b[0m_file\u001b[0m\u001b[0;34m.\u001b[0m\u001b[0mfile_path\u001b[0m\u001b[0;34m\u001b[0m\u001b[0;34m\u001b[0m\u001b[0m\n\u001b[0m\u001b[1;32m   2048\u001b[0m             )\n\u001b[1;32m   2049\u001b[0m         \u001b[0;32melse\u001b[0m\u001b[0;34m:\u001b[0m\u001b[0;34m\u001b[0m\u001b[0;34m\u001b[0m\u001b[0m\n",
      "\u001b[0;31mKeyInFileError\u001b[0m: not found: 'forward_events' (with any cycle number)\n\n    Available keys: 'ForwardEvents;2', 'forward_only;1', 'cm_scaling;1'\n\nin file /local/cms/user/revering/dphoton/ldmx-sim-technique/michaelCode/plotting/repository/mu_Pb_111to100.root"
     ]
    }
   ],
   "source": [
    "import dphoton_root_extractor as ex\n",
    "import numpy\n",
    "exampleMadgraphData=ex.extractMadgraphData(repository+elWBaseMg)\n",
    "exampleRescaledData=ex.extractRescaledData(repository+muPbInputFiles[0])"
   ]
  },
  {
   "cell_type": "code",
   "execution_count": null,
   "id": "83f5c82f",
   "metadata": {},
   "outputs": [],
   "source": [
    "print(exampleMadgraphData)\n",
    "print(exampleRescaledData)"
   ]
  },
  {
   "cell_type": "code",
   "execution_count": null,
   "id": "3d42320c",
   "metadata": {},
   "outputs": [],
   "source": []
  }
 ],
 "metadata": {
  "kernelspec": {
   "display_name": "Python 3",
   "language": "python",
   "name": "python3"
  },
  "language_info": {
   "codemirror_mode": {
    "name": "ipython",
    "version": 3
   },
   "file_extension": ".py",
   "mimetype": "text/x-python",
   "name": "python",
   "nbconvert_exporter": "python",
   "pygments_lexer": "ipython3",
   "version": "3.6.8"
  }
 },
 "nbformat": 4,
 "nbformat_minor": 5
}
