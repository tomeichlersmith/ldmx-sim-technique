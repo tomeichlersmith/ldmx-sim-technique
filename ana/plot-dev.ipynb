{
 "cells": [
  {
   "cell_type": "markdown",
   "id": "259d7329",
   "metadata": {},
   "source": [
    "# Development of Kinematics Plotting\n",
    "[uproot Getting Started](https://uproot.readthedocs.io/en/latest/basic.html)"
   ]
  },
  {
   "cell_type": "code",
   "execution_count": 1,
   "id": "4901319f",
   "metadata": {},
   "outputs": [],
   "source": [
    "import uproot\n",
    "import matplotlib.pyplot as plt"
   ]
  },
  {
   "cell_type": "code",
   "execution_count": 2,
   "id": "6c3c3061",
   "metadata": {},
   "outputs": [],
   "source": [
    "with uproot.open('ntuple_tungsten_mAMeV_10_events_10000_run_3000.root:dbint/dbint') as t :\n",
    "    df = t.arrays(library='pd')"
   ]
  },
  {
   "cell_type": "code",
   "execution_count": 3,
   "id": "c64ebb44",
   "metadata": {},
   "outputs": [
    {
     "data": {
      "image/png": "[encoded data removed]",
      "text/plain": [
       "<Figure size 432x288 with 1 Axes>"
      ]
     },
     "metadata": {
      "needs_background": "light"
     },
     "output_type": "display_data"
    }
   ],
   "source": [
    "plt.hist(df['recoil_energy'])\n",
    "plt.yscale('log')\n",
    "plt.show()"
   ]
  },
  {
   "cell_type": "code",
   "execution_count": null,
   "id": "34c1a590",
   "metadata": {},
   "outputs": [],
   "source": []
  }
 ],
 "metadata": {
  "kernelspec": {
   "display_name": "Python 3",
   "language": "python",
   "name": "python3"
  },
  "language_info": {
   "codemirror_mode": {
    "name": "ipython",
    "version": 3
   },
   "file_extension": ".py",
   "mimetype": "text/x-python",
   "name": "python",
   "nbconvert_exporter": "python",
   "pygments_lexer": "ipython3",
   "version": "3.6.8"
  }
 },
 "nbformat": 4,
 "nbformat_minor": 5
}
