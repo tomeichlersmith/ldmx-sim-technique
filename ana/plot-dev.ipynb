{
 "cells": [
  {
   "cell_type": "markdown",
   "id": "259d7329",
   "metadata": {},
   "source": [
    "# Development of Kinematics Plotting\n",
    "[uproot Getting Started](https://uproot.readthedocs.io/en/latest/basic.html)"
   ]
  },
  {
   "cell_type": "code",
   "execution_count": 11,
   "id": "4901319f",
   "metadata": {},
   "outputs": [],
   "source": [
    "import uproot\n",
    "import awkward as ad\n",
    "import matplotlib.pyplot as plt"
   ]
  },
  {
   "cell_type": "code",
   "execution_count": 3,
   "id": "6c3c3061",
   "metadata": {},
   "outputs": [],
   "source": [
    "f = uproot.open('ntuple_tungsten_mAMeV_10_events_10_run_3000.root')"
   ]
  },
  {
   "cell_type": "code",
   "execution_count": 6,
   "id": "7eb5456a",
   "metadata": {},
   "outputs": [],
   "source": [
    "t = f['dbint/dbint']"
   ]
  },
  {
   "cell_type": "code",
   "execution_count": 14,
   "id": "c64ebb44",
   "metadata": {},
   "outputs": [
    {
     "data": {
      "text/plain": [
       "(array([ 0.,  0.,  0.,  0.,  0., 10.,  0.,  0.,  0.,  0.]),\n",
       " array([4000.01099891, 4000.11099891, 4000.21099891, 4000.31099891,\n",
       "        4000.41099891, 4000.51099891, 4000.61099891, 4000.71099891,\n",
       "        4000.81099891, 4000.91099891, 4001.01099891]),\n",
       " <BarContainer object of 10 artists>)"
      ]
     },
     "execution_count": 14,
     "metadata": {},
     "output_type": "execute_result"
    },
    {
     "data": {
      "image/png": "[encoded data removed]",
      "text/plain": [
       "<Figure size 432x288 with 1 Axes>"
      ]
     },
     "metadata": {
      "needs_background": "light"
     },
     "output_type": "display_data"
    }
   ],
   "source": [
    "plt.hist(t['incident_energy'].array(library='np'))"
   ]
  },
  {
   "cell_type": "code",
   "execution_count": null,
   "id": "2e429c61",
   "metadata": {},
   "outputs": [],
   "source": []
  }
 ],
 "metadata": {
  "kernelspec": {
   "display_name": "Python 3",
   "language": "python",
   "name": "python3"
  },
  "language_info": {
   "codemirror_mode": {
    "name": "ipython",
    "version": 3
   },
   "file_extension": ".py",
   "mimetype": "text/x-python",
   "name": "python",
   "nbconvert_exporter": "python",
   "pygments_lexer": "ipython3",
   "version": "3.6.8"
  }
 },
 "nbformat": 4,
 "nbformat_minor": 5
}
